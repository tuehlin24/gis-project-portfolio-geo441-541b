{
  "nbformat": 4,
  "nbformat_minor": 0,
  "metadata": {
    "colab": {
      "provenance": [],
      "toc_visible": true,
      "include_colab_link": true
    },
    "kernelspec": {
      "name": "python3",
      "display_name": "Python 3"
    },
    "language_info": {
      "name": "python"
    }
  },
  "cells": [
    {
      "cell_type": "markdown",
      "metadata": {
        "id": "view-in-github",
        "colab_type": "text"
      },
      "source": [
        "<a href=\"https://colab.research.google.com/github/tuehlin24/gis-project-portfolio-geo441-541b/blob/main/GEO441_541b_group_project.ipynb\" target=\"_parent\"><img src=\"https://colab.research.google.com/assets/colab-badge.svg\" alt=\"Open In Colab\"/></a>"
      ]
    },
    {
      "cell_type": "markdown",
      "source": [
        "#**GEO 441/541B Group Project Topics Pool Fall 2024**\n",
        "\n",
        "by Shenyue Jia | Last updated: 9/11/2024\n",
        "\n",
        "---"
      ],
      "metadata": {
        "id": "WVohRDUUVRnI"
      }
    },
    {
      "cell_type": "markdown",
      "source": [
        "##**Topic 1: What does the trend say? The population change from 2010 to 2020 in Ohio**\n",
        "\n",
        "- A GEO-GAC **Ohio Data Initiative** Project\n",
        "  - Geospatial Analysis Center (GAC) Ohio Data Initiative aims to create mappable data products from U.S. Census data tailored to serve the need of analyzing Ohio-related matters\n",
        "  - This product will save time and effort for users who are not farmiliar with the U.S. Census data or need a map-ready dataset of Ohio"
      ],
      "metadata": {
        "id": "OLlGduV1VeoL"
      }
    },
    {
      "cell_type": "markdown",
      "source": [
        "###**Synopsis**\n",
        "\n",
        "Census is conducted every 10 years and usually produces the most thorough investigation in key socio-economic sectors. Population is one of the key sectors and determines how federal and state-level resources are distributed.\n",
        "\n",
        "During the past decade, Ohio has gone through significant demographic changes determined by various socio-economic forces. In terms of **population**, the decline in the traditional manufacturing industries continue to cause population loss in towns like Youngstown and Bowling Green. The rise in education, consulting, and health services near Columbus, the capital city of Ohio, has driven a signficant increase in population and the expansion of the metropolitan area. In terms of **race and ethnicity**, Ohio saw an increasingly diverse population, especially in major metropolitan areas like Cleveland, Columnbus, and Cincinnati, as well as college towns in the radius of these metropolitan areas.\n",
        "\n",
        "**In this project, you will**\n",
        "\n",
        "- **Compare** population data of 2010 and 2020 census at different spatial scales in Ohio to identify most prominent change in population distribution\n",
        "- **Quantify** the changes detected in different geographical regions by the most appropriate metric (e.g., population change in percentage)\n",
        "- **Create** meaningful and intriguing visualization of your results\n",
        "- **[Optional] Investigate** the potential driver(s) of selected trend(s)"
      ],
      "metadata": {
        "id": "nucAyg5syAFj"
      }
    },
    {
      "cell_type": "markdown",
      "source": [
        "###**Core Datasets**\n",
        "\n",
        "- [U.S. Census population data](https://data.census.gov/profile/Ohio?g=040XX00US39)\n",
        "\n"
      ],
      "metadata": {
        "id": "vuF2P4U_1fFT"
      }
    },
    {
      "cell_type": "markdown",
      "source": [
        "###**Expected Outcome**\n",
        "\n",
        "- A cleaned dataset for the population of Ohio at census tract level with the following fields (columns in a table)\n",
        "  - [ ] GEOID of census tract\n",
        "  - [ ] County name\n",
        "  - [ ] Metropolitan area name\n",
        "  - [ ] Population in 2010 census\n",
        "  - [ ] Population in 2020 census\n",
        "  - [ ] Change in population\n",
        "  - [ ] Percent change in population\n",
        "- Maps to showcase the population change in an appropriate style (e.g., divergent color ramp to indicate increase and decrease in different colors)\n",
        "- A report to describe the change and investigate potential drivers behind the change"
      ],
      "metadata": {
        "id": "BXeq33K84ddu"
      }
    },
    {
      "cell_type": "markdown",
      "source": [
        "###**Visualization Examples**\n",
        "\n",
        "Below are some visualization examples of core datasets mentioned above.\n",
        "\n",
        "- [U.S. Census populated places (2020 census)](https://www.arcgis.com/home/item.html?id=d8e6e822e6b44d80b4d3b5fe7538576d)\n",
        "\n",
        "![img](https://drive.google.com/uc?export=view&id=1qjrBV7m3D_eHjgB_v7on77NeNiVHchjB)\n",
        "\n",
        "---"
      ],
      "metadata": {
        "id": "IUmQYVb33-s-"
      }
    },
    {
      "cell_type": "markdown",
      "source": [
        "##**Topic 2: The rise and (potential) fall of working from home**"
      ],
      "metadata": {
        "id": "11DQWZCYFJAp"
      }
    },
    {
      "cell_type": "markdown",
      "source": [
        "###**Synopsis**\n",
        "\n",
        "Working from home has become a common option for many jobs since the pandemic. This new style of working has provided more flexibility for many white collar workers and offerred new opportunities for technologies that support the collaboration of a hybrid working routine. However, there has been a rise in the \"return-to-office (RTO)\" in the past two years as the concern of Covid wanes. Today, even the tech giants that led the trend of working form home like Meta, Amazon, and Microsoft have been pushing the RTO trend aggressively, citing concerns of productivity (source 1) and pressure from local governments that have sufferred economically due to the significantly reduced income from sales taxes from commuters (source 2).\n",
        "\n",
        "In this project, you will compare the yearly data of commuting from U.S. Census for **California** during the period of 2019 to 2022 to answer the following questions:\n",
        "\n",
        "- Which metric available from the [**U.S. Census Commuting Dataset**](https://www.census.gov/topics/employment/commuting/data.html) best caputures the change in commuting?\n",
        "- How did the commuting pattern change between 2019 and 2021?\n",
        "- Is the trend from 2021 to 2022 different from 2019 to 2021?\n",
        "- Which census tracts and counties in California had the most significant change in terms of commuting approach during our study period?"
      ],
      "metadata": {
        "id": "nXAjJK2UGQA7"
      }
    },
    {
      "cell_type": "markdown",
      "source": [
        "###**Core Datasets**\n",
        "\n",
        "- [U.S. Census Commuting Data](https://www.census.gov/topics/employment/commuting/data.html)"
      ],
      "metadata": {
        "id": "qAp1JIhxihLb"
      }
    },
    {
      "cell_type": "markdown",
      "source": [
        "###**Expected Outcome**\n",
        "\n",
        "- A cleaned dataset showing key commuting metrics at census tract level for California with the following field(s)\n",
        "  - [ ] GEOID of census tract\n",
        "  - [ ] County name\n",
        "  - [ ] Metropolitan area name\n",
        "  - [ ] Population working from home (yearly data from 2019 to 2022)\n",
        "  - [ ] Percent population working from home (yearly data from 2019 to 2022)\n",
        "  - [ ] Difference of population working from home (2019 vs. 2021, 2021 vs. 2022)\n",
        "  - [ ] Difference of percent population working from home (2019 vs. 2021, 2021 vs. 2022)\n",
        "- Maps to showcase the change in people and percent people working from home with an appropriate style (e.g., divergent color ramp to indicate increase and decrease in different colors)\n",
        "- A report to describe the change pattern during the two periods of study, as well as potential drivers\n"
      ],
      "metadata": {
        "id": "TsWTUgMQiyWp"
      }
    },
    {
      "cell_type": "markdown",
      "source": [
        "###**Visualization Example**\n",
        "\n",
        "- The remote work revolution is already reshaping America from [*Washington Post*](https://www.washingtonpost.com/business/2022/08/19/remote-work-hybrid-employment-revolution/)\n",
        "\n",
        "<img src=\"https://www.washingtonpost.com/wp-apps/imrs.php?src=https://arc-anglerfish-washpost-prod-washpost.s3.amazonaws.com/public/H5ZDTKQC5NABRLDFFLPY5J42LQ.png&w=1440&impolicy=high_res\" alt=\"Latitude lines\" width=\"60%\">\n",
        "\n",
        "- A potential driver of such trend\n",
        "\n",
        "<img src=\"https://www.washingtonpost.com/wp-apps/imrs.php?src=https://arc-anglerfish-washpost-prod-washpost.s3.amazonaws.com/public/QP2G4PE62RGQ3DZNBOQARNGWVU.png&w=1440&impolicy=high_res\" alt=\"Latitude lines\" width=\"60%\">\n",
        "\n",
        "---"
      ],
      "metadata": {
        "id": "k79IEm5qj9fC"
      }
    },
    {
      "cell_type": "markdown",
      "source": [
        "##**Topic 3: Home ownership trend in Ohio from 2010 to 2020**\n",
        "\n",
        "- A GEO-GAC **Ohio Data Initiative** Project\n",
        "  - Geospatial Analysis Center (GAC) Ohio Data Initiative aims to create mappable data products from U.S. Census data tailored to serve the need of analyzing Ohio-related matters\n",
        "  - This product will save time and effort for users who are not farmiliar with the U.S. Census data or need a map-ready dataset of Ohio"
      ],
      "metadata": {
        "id": "wpFqRGxklrXU"
      }
    },
    {
      "cell_type": "markdown",
      "source": [
        "### **Synopsis**\n",
        "\n",
        "As a state in the Midswest U.S., Ohio is generally considered affordable when we talk about homebuying, resulting in a high ownership rate even in metropolitan areas. While buying a home is still not out of touch for many Ohioans, some places in Ohio have seen a sharp rise in the renters during the past decade. Drivers of such a trend may be related with the changing prodominant industries in these areas, the revival of downtown, and different preference of life style from the younger generation."
      ],
      "metadata": {
        "id": "w_p-4qhaBHBX"
      }
    },
    {
      "cell_type": "markdown",
      "source": [
        "This project aims to analyze the U.S. Census home ownership data of 2010 and 2020 at the census tract leve and answer the following questions:\n",
        "\n",
        "- Which census tracts have the highest renter-to-owner ratio in 2010 as seen in the 2010 Census?\n",
        "- Which census tracts have the highest renter-to-owner ratio in 2020 as seen in the 2010 Census?\n",
        "- How much do the census tracts with the highest renter-to-owner ratio overlap if comparing 2010 and 2020 census data?\n",
        "- Does age and income determine this spatial trend?"
      ],
      "metadata": {
        "id": "n-yH4reoBhM5"
      }
    },
    {
      "cell_type": "markdown",
      "source": [
        "### **Core Datasets**\n",
        "\n",
        "- [U.S. Census Data of Ownership, Home Value, and Rent](https://www.census.gov/acs/www/about/why-we-ask-each-question/ownership/)"
      ],
      "metadata": {
        "id": "FSnuIkcdBtih"
      }
    },
    {
      "cell_type": "markdown",
      "source": [
        "### **Expected Outcome**\n",
        "\n",
        "- A cleaned dataset showing key commuting metrics at census tract level for Ohio with the following field(s)\n",
        "  - [ ] GEOID of census tract\n",
        "  - [ ] County name\n",
        "  - [ ] Metropolitan area name\n",
        "  - [ ] % population owning (2010)\n",
        "  - [ ] % population renting (2010)\n",
        "  - [ ] Renter-to-owner ratio (2010)\n",
        "  - [ ] % population owning (2020)\n",
        "  - [ ] % population renting (2020)\n",
        "  - [ ] Renter-to-owner ratio (2020)\n",
        "\n",
        "- Maps to showcase the spatial pattern of % population owning and renting (e.g., divergent color ramp to indicate renter-dominant and owner-dominant census tracts)\n",
        "- Maps to showcase the change in the spatial pattern of % population owning and renting from 2010 to 2020\n",
        "- Maps showing the age and income of 2010 and 2020\n",
        "- A report to describe the change pattern during the two periods of study based on the visualization above"
      ],
      "metadata": {
        "id": "ec1beki3B5Zj"
      }
    },
    {
      "cell_type": "markdown",
      "source": [
        "### **Visualization Example**\n",
        "\n",
        "<img src=\"https://www.census.gov/content/dam/Census/library/visualizations/2021/comm/changing-homeownership-rates.jpg\" alt=\"Latitude lines\" width=\"70%\">\n",
        "\n",
        "---"
      ],
      "metadata": {
        "id": "MJM9F8GpEJFC"
      }
    },
    {
      "cell_type": "markdown",
      "source": [
        "## **Topic 4: Ten years after Obamacare: Which parts of Ohio are better covered than 10 years ago?**\n",
        "\n",
        "- A GEO-GAC **Ohio Data Initiative** Project\n",
        "  - Geospatial Analysis Center (GAC) Ohio Data Initiative aims to create mappable data products from U.S. Census data tailored to serve the need of analyzing Ohio-related matters\n",
        "  - This product will save time and effort for users who are not farmiliar with the U.S. Census data or need a map-ready dataset of Ohio"
      ],
      "metadata": {
        "id": "BrvLlehWEMZ7"
      }
    },
    {
      "cell_type": "markdown",
      "source": [
        "### **Synopsis**\n",
        "\n",
        "The Affordable Care Act (ACA) or \"Obamacare\" was signed into law in March, 2010. It was a comprehensive health care reform law that aimed to make health insurance more affordable and accessible to more people. It also sought to reduce health care costs and crack down on abusive insurance practices. The ACA was considered a major health care reform act, comparable to Medicare, which was passed in 1965 ([New England Journal of Medicine](https://www.nejm.org/doi/10.1056/NEJMhpr1503614), [U.S. Dept. of Health and Human Services](https://www.hhs.gov/answers/health-insurance-reform/what-is-the-affordable-care-act/index.html#:~:text=The%20%E2%80%9CAffordable%20Care%20Act%E2%80%9D%20(,Act%20on%20March%2030%2C%202010.))).\n",
        "\n",
        "Ten years after Obamacare, there has been a significant rise in health insurance coverage in the U.S., so does Ohio. Today, althrough there are still 26.4 million people uninsured in 2023, this accounts only for 8.0% of the total population in the U.S. ([U.S. Census](https://www.census.gov/library/visualizations/2024/comm/health-insurance.html)). Although Obamacare was not the only reason that drove up the health insurance coverage, it brought the health insurance coverage issue to the public awareness and led to a rising coverage.\n",
        "\n",
        "In this project, we will compare the health insurance coverage between 2010 and 2020 using the 10-year census data and investigate in the following questions related to health insurance coverage:\n",
        "\n",
        "- Which metric captures the spatial pattern of the health insurance coverage the best?\n",
        "  - % people with health insurance coverage\n",
        "  - Per capita people with health insurance coverage\n",
        "  - Other options\n",
        "- Which census tracts in Ohio experienced the biggest increase in health insurance coverage between 2010 and 2020?\n",
        "- Which census tracts in Ohio showed insignificant change in health insurance coverage between 2010 and 2020? Are they well covered or poorly covered?\n",
        "- Are better-covered areas also better off in both periods we investigated?"
      ],
      "metadata": {
        "id": "xdDWVcnaFDTj"
      }
    },
    {
      "cell_type": "markdown",
      "source": [
        "### **Core Datasets**\n",
        "\n",
        "- [U.S. Census Data for Health Insurance Coverage](https://www.census.gov/topics/health/health-insurance.html)"
      ],
      "metadata": {
        "id": "PrGQwqkIP18N"
      }
    },
    {
      "cell_type": "markdown",
      "source": [
        "### **Expected Outcome**\n",
        "\n",
        "- A cleaned dataset showing key commuting metrics at census tract level for Ohio with the following field(s)\n",
        "  - [ ] GEOID of census tract\n",
        "  - [ ] County name\n",
        "  - [ ] Metropolitan area name\n",
        "  - [ ] % population with health insurance coverage (2010)\n",
        "  - [ ] Per capita Population with health insurance coverage (2010)\n",
        "  - [ ] % population with health insurance coverage (2020)\n",
        "  - [ ] Per Capita Population with health insurance coverage(2020)\n",
        "  - [ ] Change in % population with health insuranc coverage (2010-2020)\n",
        "  - [ ] Change in per capita population with health insurance coverage(2010-2020)\n",
        "\n",
        "- Maps to showcase the spatial pattern of % population and population per capita covered by health insurance\n",
        "- Maps to showcase the change in the % population covered by health insurance from 2010 to 2020 (e.g., divergent color ramp to indicate renter-dominant and owner-dominant census tracts)\n",
        "- Maps to showcase the change in the per capita population covered by health insurance from 2010 to 2020\n",
        "- Maps showing the income of 2010 and 2020 at census tract level to help answer one of the research questions\n",
        "- A report to describe the change pattern during the two periods of study based on the visualization above"
      ],
      "metadata": {
        "id": "TKedNg5iQJjL"
      }
    },
    {
      "cell_type": "markdown",
      "source": [
        "### **Visualization Example**\n",
        "\n",
        "- [U.S. Census data of people without health insurance coverage](https://storymaps.arcgis.com/stories/aae195ca5edd48739ce78eda985b52bd)\n",
        "\n",
        "![img](https://drive.google.com/uc?export=view&id=1yFoh9qN9yY2ZaLAW1IMDHtIs5u2sC94N)\n",
        "\n",
        "---"
      ],
      "metadata": {
        "id": "-Mob9capTMYI"
      }
    },
    {
      "cell_type": "markdown",
      "source": [
        "## **Topic 5: College towns in Ohio: Defining their boundaries and discovering their change during the past decade**\n",
        "\n",
        "- A GEO-GAC **Ohio Data Initiative** Project\n",
        "  - Geospatial Analysis Center (GAC) Ohio Data Initiative aims to create mappable data products from U.S. Census data tailored to serve the need of analyzing Ohio-related matters\n",
        "  - This product will save time and effort for users who are not farmiliar with the U.S. Census data or need a map-ready dataset of Ohio"
      ],
      "metadata": {
        "id": "c8je-gmXTP91"
      }
    },
    {
      "cell_type": "markdown",
      "source": [
        "### **Synopsis**\n",
        "\n",
        "Ohio is famous for its rich higher education resources that readies a strong workforce to support and boost the economy of Ohio. Many flagship universities, including Miami University, were established in early 1800s and continued their service to the community up until now. Around these universities are college towns that are rooted in the university lives and shaped by students who spend their first years as adults generation after generation.\n",
        "\n",
        "However, the boundaries of college towns can be difficult to define. The 2020 Census deloyed [special measurements](https://www.census.gov/library/stories/2020/01/student-housing-off-campus-with-parents-college-students-count-2020-census.html) to make sure college students are counted. In this project, we will explore what is the best way to separate college towns in Ohio from its nearby communities using the 2020 census data at the **[block group](https://www.census.gov/programs-surveys/geography/about/glossary.html#par_textimage_4)** level. Factors to consider may include:\n",
        "\n",
        "- median age of population\n",
        "- % people in different age groups\n",
        "- % people of college enrollment\n",
        "- median household income\n",
        "- median and average household size\n",
        "- other applicable metrics from U.S. Census or other data resources\n",
        "\n",
        "Once the boundaries of college towns in Ohio are defined, we will compare the population change between census of 2010 and 2020 to showcase the growth or decline of college towns in Ohio during the past decade."
      ],
      "metadata": {
        "id": "1H8PMeqPXjYa"
      }
    },
    {
      "cell_type": "markdown",
      "source": [
        "### **Core Datasets**\n",
        "\n",
        "- [U.S. Census Data of Population Age and Sex](https://www.census.gov/library/visualizations/interactive/exploring-age-groups-in-the-2020-census.html)\n",
        "- [U.S. Census Data of School Enrolmment](https://www.census.gov/library/publications/2023/acs/acs-55.html)\n",
        "- [U.S. Census Data of Household Income](https://www.census.gov/topics/income-poverty/income/data/tables.html)\n",
        "- [Ohio's higher education campuses](https://highered.ohio.gov/about/ohios-campuses)"
      ],
      "metadata": {
        "id": "18_wUBkIZ6fo"
      }
    },
    {
      "cell_type": "markdown",
      "source": [
        "### **Expected Outcomes**\n",
        "\n",
        "- A cleaned dataset showing **block groups** that we define as a part of a college town in Ohio with the following field(s)\n",
        "  - [ ] GEOID of block group\n",
        "  - [ ] GEOID of the census tract that the block group belongs to\n",
        "  - [ ] County name\n",
        "  - [ ] Metropolitan area name\n",
        "  - [ ] Population in 18-24 age group (2020)\n",
        "  - [ ] % Population in 18-24 age group (2020)\n",
        "  - [ ] Per capita Population in 18-24 age group (2020)\n",
        "  - [ ] Per capita Population in 18-24 age group (2010)\n",
        "  - [ ] Change in the per capita population in 18-24 age group from 2010 to 2020\n",
        "  - [ ] Household with a size <= 2 (2020)\n",
        "  - [ ] % Household with a size <= 2 (2020)\n",
        "  - [ ] Per capita Household with a size <= 2 (2020)\n",
        "  - [ ] Per capita Household with a size <= 2 (2020)\n",
        "  - [ ] Median household income (2020)\n",
        "\n",
        "\n",
        "- Maps to showcase the boundaries of college towns in Ohio with town names and university names\n",
        "- Maps to showcase **selected metrics** at the block group level to support your rationale to define the boundaries of college towns, such as\n",
        "  - Per capita population in 18-24 age group (2020)\n",
        "  - Per capita household with a size <= 2 (2020)\n",
        "- Maps to showcase the change in population of college towns from 2010 to 2020\n",
        "- A report to explain how the boundaries of college towns are defined by your team and the change in population of each college town from 2010 to 2020"
      ],
      "metadata": {
        "id": "sRut-06abzwo"
      }
    },
    {
      "cell_type": "markdown",
      "source": [
        "### **Visualization Examples**\n",
        "\n",
        "- [Exploring Age Groups in the 2020 Census](https://www.census.gov/library/visualizations/interactive/exploring-age-groups-in-the-2020-census.html)\n",
        "\n",
        "![img](https://drive.google.com/uc?export=view&id=18XTTY460LGPo_SkuLlzL1VHFOEPwAOYP)\n",
        "\n",
        "\n",
        "- [U.S. Census percentage of people enrolled in college (tract level)](https://www.arcgis.com/home/item.html?id=3b15603a72e74c20a66b724952c3fbac)\n",
        "\n",
        "![img](https://drive.google.com/uc?export=view&id=1QdXdUcpRvPNFEXUvGRqr1a1cDnR-m9_f)\n",
        "\n",
        "- [IDHE's Campus Boundaries Project](https://idhe.tufts.edu/resources/idhes-campus-boundaries-project)\n",
        "\n",
        "---"
      ],
      "metadata": {
        "id": "1RdmY-zibQvi"
      }
    },
    {
      "cell_type": "markdown",
      "source": [
        "## **Topic 6: Identifying biodiversity hotspots near fast-growing urban areas in the continental U.S.**\n",
        "\n"
      ],
      "metadata": {
        "id": "Wv849MSed8F2"
      }
    },
    {
      "cell_type": "markdown",
      "source": [
        "### **Synopsis**\n",
        "\n",
        "According to the most recent work from researchers in [NatureServe](https://esajournals.onlinelibrary.wiley.com/doi/epdf/10.1002/eap.2534), many fast-growing urban areas with little protected lands are encroaching into the biodiversity hotspots or places of biodiversity importance.\n",
        "\n",
        "<img src=\"https://www.natureserve.org/sites/default/files/inline-images/MoBI_RSR_wHillshade_wLegend.png\" alt=\"Latitude lines\" width=\"70%\">\n",
        "\n",
        "*Map showing biodiversity importance for imperiled species in the continental U.S. (2024); Credit: [NatureServe](https://www.natureserve.org/map-biodiversity-importance?gad_source=1&gclid=CjwKCAjw_4S3BhAAEiwA_64YhvLpHcoLyDwNRLxyzLUksKLjKoffrZ9D87MGJ15SIV6MZFKC_uTLchoCvhIQAvD_BwE)*\n",
        "\n",
        "\n",
        "An example mentioned in this article from [New York Times](https://www.nytimes.com/interactive/2022/03/03/climate/biodiversity-map.html) is the Texas Hill Country region southwest of Austin, TX. Despite pressure from housing developments and groundwater depletion, habitat for six imperiled species — a warbler, a bat, two salamanders and two plants — still exists.\n",
        "\n",
        "<img src=\"https://static01.nyt.com/newsgraphics/2022/02/15/biodiversity-usa/02880a81902bd053d0545f8e3be097ba287c91f8/austin-Artboard_1.jpg\" alt=\"Latitude lines\" width=\"50%\">\n",
        "\n",
        "*Darker red means higher imperiled biodiversity; green area is the protected land; Credit: [New York Times](https://www.nytimes.com/interactive/2022/03/03/climate/biodiversity-map.html)*\n",
        "\n",
        "In this project, we will identify census designated places (metropolitan areas) that had the largest percent of population growth from 2010 to 2020 and investigate if they are in the close proximity to a biodiversity imperiled area. We wil also find which [EPA Level IV ecoregions](https://www.epa.gov/eco-research/level-iii-and-iv-ecoregions-continental-united-states) have the highest biodiversity importance for imperiled species. This project aims to answer the following questions:\n",
        "\n",
        "- Which fastest-growing places from 2010 to 2020 are in the close proximity to biodiversity hotspots?\n",
        "- Which EPA level IV ecoregions have the highest biodiversity importance for imperiled species?\n",
        "- Are there any fastest-growing places inside the EPA level IV ecoregions with a high biodiversity importance for imperiled species?"
      ],
      "metadata": {
        "id": "wSKdjvddh9O0"
      }
    },
    {
      "cell_type": "markdown",
      "source": [
        "### **Core Datasets**\n",
        "\n",
        "- 2024 Map of Biodiversity Importance from [NatureServe](https://natureserve.maps.arcgis.com/home/item.html?id=5ad6e1b3b6fb48bbad92d903114c9f28)\n",
        "- [U.S. Census TIGER Boundaries for census designated places or metropolitan areas](https://www.census.gov/geographies/mapping-files/time-series/geo/tiger-line-file.html)\n",
        "- [EPA Level IV ecoregions](https://gaftp.epa.gov/EPADataCommons/ORD/Ecoregions/us/Eco_Level_IV_US.pdf)\n",
        "  - [Detailed information of this map](https://www.epa.gov/eco-research/level-iii-and-iv-ecoregions-continental-united-states)\n",
        "- [U.S. Census Data of Population](https://www.census.gov/topics/population.html)"
      ],
      "metadata": {
        "id": "DXjWL9YsrAsW"
      }
    },
    {
      "cell_type": "markdown",
      "source": [
        "### **Expected Outcomes**\n",
        "\n",
        "- A dataset of all metropolitan areas in the continental U.S. containing the following metrics\n",
        "  - [ ] GEOID\n",
        "  - [ ] County and State names\n",
        "  - [ ] Metropolitan area names\n",
        "  - [ ] Population of 2010\n",
        "  - [ ] Population of 2020\n",
        "  - [ ] % population change from 2010 to 2020\n",
        "  - [ ] Highest biodiversity importance inside the area\n",
        "  - [ ] Average biodiversity importance inside the area\n",
        "  - [ ] Median biodiversity importance inside the area\n",
        "  - [ ] Variance of biodiversity importance inside the area\n",
        "  - [ ] Rank of median biodiversity importance inside the area\n",
        "\n",
        "- A dataset of all EPA level IV ecoregions containing the following metrics\n",
        "  - [ ] Name of ecoregion\n",
        "  - [ ] Highest biodiversity importance inside the area\n",
        "  - [ ] Average biodiversity importance inside the area\n",
        "  - [ ] Median biodiversity importance inside the area\n",
        "  - [ ] Variance of biodiversity importance inside the area\n",
        "  - [ ] Rank of median biodiversity importance inside the area\n",
        "\n",
        "- A map showing top five fastest-growing metropolitan area boundary and the biodiversity importance imperiled layer, annotated with the highest and median value of biodiversity importance\n",
        "\n",
        "- A map showing top five EPA level IV ecoregions and the biodiversity importance imperiled layer,  annotated with the highest and median value of biodiversity importance\n",
        "\n",
        "- A report to describe findings from the above deliverables"
      ],
      "metadata": {
        "id": "OShv0SybsVOk"
      }
    },
    {
      "cell_type": "markdown",
      "source": [
        "### **Visualization Examples**\n",
        "\n",
        "<img src=\"https://static01.nyt.com/newsgraphics/2022/02/15/biodiversity-usa/02880a81902bd053d0545f8e3be097ba287c91f8/big_map_protected-Artboard-xl.jpg\" width=\"60%\">\n",
        "\n",
        "*Note: Green areas reflect federal, state and local biodiversity protections.*\n",
        "*Credit: [New York Times](https://www.nytimes.com/interactive/2022/03/03/climate/biodiversity-map.html)*"
      ],
      "metadata": {
        "id": "r0SXHq1xwnsa"
      }
    }
  ]
}