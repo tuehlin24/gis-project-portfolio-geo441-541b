{
  "nbformat": 4,
  "nbformat_minor": 0,
  "metadata": {
    "colab": {
      "provenance": [],
      "toc_visible": true,
      "include_colab_link": true
    },
    "kernelspec": {
      "name": "python3",
      "display_name": "Python 3"
    },
    "language_info": {
      "name": "python"
    }
  },
  "cells": [
    {
      "cell_type": "markdown",
      "metadata": {
        "id": "view-in-github",
        "colab_type": "text"
      },
      "source": [
        "<a href=\"https://colab.research.google.com/github/tuehlin24/gis-project-portfolio-geo441-541b/blob/main/remote-sensing-products/geo441_541_understand_band_composite.ipynb\" target=\"_parent\"><img src=\"https://colab.research.google.com/assets/colab-badge.svg\" alt=\"Open In Colab\"/></a>"
      ]
    },
    {
      "cell_type": "markdown",
      "source": [
        "# **Understand Band Composite**"
      ],
      "metadata": {
        "id": "C0ymCPR5aSHN"
      }
    },
    {
      "cell_type": "markdown",
      "source": [
        "🚀 Created by Taelor Uehlin\n",
        "\n",
        "10/14/2024"
      ],
      "metadata": {
        "id": "Pt_OREXFPvkr"
      }
    },
    {
      "cell_type": "markdown",
      "source": [
        "## **Get ready to start**\n",
        "\n",
        "- Click **`File/Save a copy in Drive`** to save a copy of this notebook to your own Google Drive"
      ],
      "metadata": {
        "id": "mxoixSCslLRe"
      }
    },
    {
      "cell_type": "markdown",
      "source": [
        "## **Landsat satellite images**\n",
        "\n",
        "- Landsat satellites have continuously acquired images of the Earth’s land surface since 1975\n",
        "- Data acquired by Landsat satellites are processed and managed by USGS Earth Resources Observation and Service (EROS) at Sioux Falls, SD\n",
        "- The revisiting time of Landsat satellites is 16 days\n",
        "- Surface reflectance images of Landsat has a resolution of 30-meter\n",
        "- The latest satellite launched is Landsat-9\n",
        "- Learn more about Landsat from [this link](https://www.usgs.gov/landsat-missions)\n",
        "  - [Product highlights](https://www.usgs.gov/landsat-missions/landsat-storymaps)\n",
        "  - [Back in the stage: How are the Landsat data processed and turned into ready-to-use data products?](https://storymaps.arcgis.com/stories/a9988e07830e4965a20794501e81ab07)\n",
        "\n",
        "---"
      ],
      "metadata": {
        "id": "CMQN_pgaHVLO"
      }
    },
    {
      "cell_type": "markdown",
      "source": [
        "## **Image for this practice**\n",
        "\n",
        "- A Landsat [Analysis Ready Data (ARD)](https://www.usgs.gov/landsat-missions/landsat-us-analysis-ready-data) for U.S.\n",
        "  - Uses Landsat Level-1 data as input that is processed to the highest scientific standards and placed in a tile-based structure to support time-series analysis.\n",
        "- Basic information of [Landsat Band Designation](https://www.usgs.gov/faqs/what-are-band-designations-landsat-satellites)\n",
        "- Obtained by Landsat-8 during the period from 07/05/2023 to 07/21/2023\n",
        "---"
      ],
      "metadata": {
        "id": "6tKmlbnzny_I"
      }
    },
    {
      "cell_type": "markdown",
      "source": [
        "## **Check image information**\n",
        "\n",
        "- We can find the basic spatial resolution and spatial reference information of this image in the **Properties**\n",
        "\n",
        "| Spatial Resolution | Spatial Reference Name | Linear Unit |\n",
        "| ------------------ | ------------------ | --------------- |\n",
        "| 30 | AEA_WGS84 | Meter |\n",
        "\n",
        "---"
      ],
      "metadata": {
        "id": "oe8EPr2lxKZa"
      }
    },
    {
      "cell_type": "markdown",
      "source": [
        "## **Check geographical extent**\n",
        "\n",
        "- This image covers an area in Southern California, near Riverside County, California\n",
        "- On July 5, 2023, Southern California experienced the hottest day in the year"
      ],
      "metadata": {
        "id": "v23rJQ5iPO00"
      }
    },
    {
      "cell_type": "markdown",
      "source": [
        "## **Compare different band composition**"
      ],
      "metadata": {
        "id": "CNRmT8G6QxPw"
      }
    },
    {
      "cell_type": "markdown",
      "source": [
        "### **Overview of band composition**\n",
        "\n",
        "- We can use different band composition to highlight different information in our image\n",
        "- Change band composition\n",
        "  - Use different bands for **Red**, **Green**, and **Blue** channels\n",
        "- Below are several commonly used band compositions for Landsat data\n",
        "  - We will use the band compositions for **Landsat 8/9 OLI**\n",
        "    - **Landsat 8** is the name of the satellite\n",
        "    - **OLI** is the name of the sensor on board\n",
        "\n",
        "<div>\n",
        "<img src=\"https://d9-wret.s3.us-west-2.amazonaws.com/assets/palladium/production/s3fs-public/styles/full_width/public/media/images/Common%20Landsat%20Band%20Combos_50.png?itok=GI6ZL1Mu\" width= 700px />\n",
        "</div>\n"
      ],
      "metadata": {
        "id": "yxev8DCezhdy"
      }
    },
    {
      "cell_type": "markdown",
      "source": [
        "### **Natural color combination**\n",
        "\n",
        "- Band combination used\n",
        "  - Red channel: Red band of Landsat-8 OLI\n",
        "  - Green channel: Green band of Landsat-8 OLI\n",
        "  - Blue channel: Blue band of Landsat-8 OLI\n",
        "\n",
        "- we assigned red channel to near infrared band\n",
        "- vegetation has a very strong reflectance in the near infrared band\n",
        "- in this image, we have a large area of forest"
      ],
      "metadata": {
        "id": "czCSx2WLcis4"
      }
    },
    {
      "cell_type": "markdown",
      "source": [
        "### **Color Infrared (CIR) combination**\n",
        "\n",
        "- Band combination used\n",
        "  - Red channel: Near Infrared (IR) band of Landsat-8 OLI\n",
        "  - Green channel: Red band of Landsat-8 OLI\n",
        "  - Blue channel: Green band of Landsat-8 OLI\n",
        "\n",
        "- **Question: Why the image composite shows mainly in red?**\n",
        "\n",
        "<div>\n",
        "<img src=\"https://ltb.itc.utwente.nl/uploads/studyarea/491/Pics_2015_jpg/Fig2_13.jpg\" width= 500px />\n",
        "</div>\n",
        "\n",
        "[Your answer]\n",
        "\n",
        "- **Question: Why waterbodies (e.g., Lake Arrowhead) shows mainly in black?**\n",
        "\n",
        "<div>\n",
        "<img src=\"https://i.ytimg.com/vi/KF2j4sH7pkE/maxresdefault.jpg\" width= 500px />\n",
        "</div>\n",
        "\n"
      ],
      "metadata": {
        "id": "jF-LJrYlFE2j"
      }
    },
    {
      "cell_type": "markdown",
      "source": [
        "### **Another false color combination to highlight vegetation**\n",
        "\n",
        "- Band combination used\n",
        "  - Red channel: Shortwave Infrared (SWIR) of Landsat-8 OLI\n",
        "  - **Green channel: Near Infrared Red band (NIR) of Landsat-8 OLI**\n",
        "  - Blue channel: Red band of Landsat-8 OLI\n",
        "\n",
        "- **Question: Why the image composite shows mainly in green?**\n",
        "\n",
        "<div>\n",
        "<img src=\"https://ltb.itc.utwente.nl/uploads/studyarea/491/Pics_2015_jpg/Fig2_13.jpg\" width= 500px />\n",
        "</div>\n",
        "\n",
        "- Because it is showing vegetation, more specifically grass\n",
        "\n",
        "- Compare the color tone between grassland (country clubs near Palm Springs, CA) and a nearly mountain forest (Mount San Jacinto). What kind of differences did you find?\n",
        "\n",
        "<div>\n",
        "<img src=\"https://www.researchgate.net/profile/Hartley-Bulcock/publication/228781235/figure/fig1/AS:300782042796038@1448723435559/Reflectance-spectra-of-different-types-of-green-vegetation-compared-to-a-spectral.png\" width= 500px />\n",
        "</div>\n",
        "\n",
        "- The grassland is much higher near the country clubs, as the green color is brighter. While the green near that forest is darker because there are more trees\n",
        "\n",
        "---"
      ],
      "metadata": {
        "id": "38QPvYSW_k62"
      }
    },
    {
      "cell_type": "markdown",
      "source": [
        "### **Reflectance of building rooftops**\n",
        "\n",
        "- We typically uses a combination of the shortwave infrared (SWIR) bands, often assigning them to the red and green channels, which causes urban areas to appear as shades of purple or gray, contrasting with the green vegetation in the near-infrared band assigned to the blue channel;\n",
        "- This is because urban surfaces like buildings reflect a high amount of infrared radiation in the SWIR bands compared to vegetation\n",
        "- Try the following band combination and observe your results\n",
        "  - Red channel: Band 7 Shortwave Infrared (SWIR) of Landsat-8 OLI\n",
        "  - Green channel: Band 6 Shortwave Infrared (SWIR) of Landsat-8 OLI\n",
        "  - Blue channel: Band 4 Red band of Landsat-8 OLI"
      ],
      "metadata": {
        "id": "3kgw6c1k_n_R"
      }
    },
    {
      "cell_type": "markdown",
      "source": [
        "## **Compare land cover/land use with surface temperature**\n",
        "\n",
        "- Landsat 8 has a **Band 10 (thermal infrared band, 10.6-11.19 micrometer)** to capture the surface temperature\n",
        "- Check the image information of Band 10\n",
        "\n",
        "| Spatial Resolution | Spatial Reference Name | Linear Unit |\n",
        "| ------------------ | ------------------ | --------------- |\n",
        "| 30 | AEA_WGS84 | meter |\n",
        "\n",
        "\n",
        "- You may find the thermal infrared band looks \"blurry\" compared with the reflectance bands we have observed\n",
        "  - This is because the original spatial resolution of this image is 100 meter (refer to [Landsat 8 band designations](https://www.usgs.gov/faqs/what-are-band-designations-landsat-satellites))\n",
        "  - It was interpolated/resampled to the 30 meter resolution from its original resolution\n",
        "---"
      ],
      "metadata": {
        "id": "Y5cV2iHe-sPA"
      }
    },
    {
      "cell_type": "markdown",
      "source": [
        "### **Map the surface temperature**\n",
        "\n",
        "- We can use a different colro scheme to visualize the surface temperature\n",
        "- Which of the following areas have a lower temperature?\n",
        "  - [ ] Building rooftops\n",
        "  - [X] Mountains\n",
        "  - [X] Rivers\n",
        "  - [X] Ponds and reservoirs\n",
        "  - [ ] Bare soil and deserts\n",
        "- Turn on the **Swipe** tool in **Raster Layer** tab to conveniently compare the two layers\n",
        "- The map below shows the contrast of land surface temperature in Palm Springs, CA\n",
        "\n",
        "![map](https://drive.google.com/uc?export=view&id=1gZnQO6gXZqRlpw50_xkV-un57MvI5e6n)"
      ],
      "metadata": {
        "id": "9kafNaGtXTfT"
      }
    },
    {
      "cell_type": "markdown",
      "source": [
        "### **Scale factor used in Landsat images**\n",
        "\n",
        "- In order to save storage space, data producers usually don't store data as float or double numbers\n",
        "- A scale factor and additive are usually applied to help users convert the stored value to the real value\n",
        "\n",
        "$\n",
        "Surface\\,Temperture\\,(Kelvin) = Band\\, 10\\,DN\\, Value\\times 0.00341802 + 149\n",
        "$\n",
        "\n",
        "- Refer to this [conversion table of Landsat-8 scientific products](https://www.usgs.gov/faqs/how-do-i-use-a-scale-factor-landsat-level-2-science-products)\n",
        "  - Surface temperature of Landsat-8 Band 10 uses Kelvin as the unit, not Celcius or Farenheit\n",
        "  - Upper bound value of Land Surface Temperature (K): [Your answer]\n",
        "  - Lower bound value of Land Surface Temperature (K): [Your answer]"
      ],
      "metadata": {
        "id": "W4cZOL_siq0e"
      }
    },
    {
      "cell_type": "markdown",
      "source": [
        "## **Save notebook to GitHub**\n",
        "\n",
        "- Save this notebook to GitHub repository you made on Monday\n",
        "- Create a new folder by copying the following line to your repository path\n",
        "  - `raster-data-analysis/band-composition-for-landsat.ipynb`"
      ],
      "metadata": {
        "id": "bvZyUOmeRCUa"
      }
    }
  ]
}